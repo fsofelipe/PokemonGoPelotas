{
 "cells": [
  {
   "cell_type": "code",
   "execution_count": 79,
   "metadata": {},
   "outputs": [],
   "source": [
    "import gmaps\n",
    "import gmaps.datasets\n",
    "gmaps.configure(api_key=\"SUA GOOGLE KEY\") # Your Google API key"
   ]
  },
  {
   "cell_type": "code",
   "execution_count": 80,
   "metadata": {},
   "outputs": [],
   "source": [
    "import pandas as pd\n",
    "import numpy as np\n",
    "import seaborn as sns\n",
    "import matplotlib.pyplot as plt\n",
    "%matplotlib inline  "
   ]
  },
  {
   "cell_type": "code",
   "execution_count": 81,
   "metadata": {},
   "outputs": [],
   "source": [
    "gym_loc = pd.read_csv('Queries/gym_team/gym_team_14_30.csv')\n",
    "\n",
    "mystic = gym_loc[gym_loc['Team'] == 1]\n",
    "mystic = mystic[['Latitude', 'Longitude']]\n",
    "\n",
    "valor = gym_loc[gym_loc['Team'] == 2]\n",
    "valor = valor[['Latitude', 'Longitude']]\n",
    "\n",
    "instic = gym_loc[gym_loc['Team'] == 3]\n",
    "instic = instic[['Latitude', 'Longitude']]"
   ]
  },
  {
   "cell_type": "code",
   "execution_count": 82,
   "metadata": {},
   "outputs": [],
   "source": [
    "centermap = (-31.7643528,-52.3381246)\n",
    "fig = gmaps.figure(center=centermap, zoom_level=14.75)"
   ]
  },
  {
   "cell_type": "code",
   "execution_count": 83,
   "metadata": {},
   "outputs": [],
   "source": [
    "gym_mystic = gmaps.symbol_layer(\n",
    "    mystic, fill_color=\"rgba(0, 63, 255, 0.5)\", stroke_color=\"rgba(0, 63, 255, 1)\", scale=5\n",
    ")\n",
    "fig.add_layer(gym_mystic)\n",
    "\n",
    "gym_valor = gmaps.symbol_layer(\n",
    "    valor, fill_color=\"rgba(255, 0, 0, 0.5)\", stroke_color=\"rgba(255, 0, 0, 1)\", scale=5\n",
    ")\n",
    "fig.add_layer(gym_valor)\n",
    "\n",
    "gym_instic = gmaps.symbol_layer(\n",
    "    instic, fill_color=\"rgba(246, 255, 0, 0.5)\", stroke_color=\"rgba(246, 255, 0, 1)\", scale=5\n",
    ")\n",
    "fig.add_layer(gym_instic)"
   ]
  },
  {
   "cell_type": "code",
   "execution_count": 84,
   "metadata": {},
   "outputs": [],
   "source": [
    "centro_mercado = [(-31.76545, -52.34115), (-31.77073, -52.30582), (-31.78512, -52.31904), (-31.78012, -52.34691)]\n",
    "\n",
    "centro_mercado_pol = gmaps.drawing_layer(\n",
    "    features=[gmaps.Polygon(centro_mercado)],\n",
    "    show_controls=False\n",
    ")\n",
    "fig.add_layer(centro_mercado_pol)\n",
    "\n",
    "centro_bento = [(-31.75915, -52.35167), (-31.76655, -52.33236), (-31.75008, -52.32663), (-31.73811, -52.34393)]\n",
    "centro_bento_pol = gmaps.drawing_layer(\n",
    "    features=[gmaps.Polygon(centro_bento)],\n",
    "    show_controls=False\n",
    ")\n",
    "fig.add_layer(centro_bento_pol)\n",
    "\n",
    "centro_sta_casa = [(-31.76163, -52.34747), (-31.76405, -52.34075), (-31.77792, -52.34649), (-31.77554, -52.35428)]\n",
    "centro_sta_casa_pol = gmaps.drawing_layer(\n",
    "    features=[gmaps.Polygon(centro_sta_casa)],\n",
    "    show_controls=False\n",
    ")\n",
    "fig.add_layer(centro_sta_casa_pol)\n",
    "\n",
    "baronesa = [(-31.73908, -52.32451), (-31.76422, -52.32361), (-31.76453, -52.27996), (-31.7382, -52.2809)]\n",
    "baronesa_pol = gmaps.drawing_layer(\n",
    "    features=[gmaps.Polygon(baronesa)],\n",
    "    show_controls=False\n",
    ")\n",
    "fig.add_layer(baronesa_pol)\n",
    "\n",
    "laranjal = [(-31.72951, -52.20552), (-31.78064, -52.21883), (-31.78024, -52.25217), (-31.71422, -52.24544)]\n",
    "laranjal_pol = gmaps.drawing_layer(\n",
    "    features=[gmaps.Polygon(laranjal)],\n",
    "    show_controls=False\n",
    ")\n",
    "fig.add_layer(laranjal_pol)\n",
    "\n",
    "fragata_duque = [(-31.77588, -52.35515), (-31.76488, -52.3497), (-31.75497, -52.35837), (-31.7563, -52.36757), (-31.75033, -52.40053), (-31.76055, -52.40092)]\n",
    "fragata_duque_pol = gmaps.drawing_layer(\n",
    "    features=[gmaps.Polygon(fragata_duque)],\n",
    "    show_controls=False\n",
    ")\n",
    "fig.add_layer(fragata_duque_pol)\n",
    "\n",
    "fragata_gotuzzo = [(-31.72488, -52.39843), (-31.73039, -52.36204), (-31.74966, -52.36199), (-31.75386, -52.37834), (-31.74962, -52.40173)]\n",
    "fragata_gotuzzo_pol = gmaps.drawing_layer(\n",
    "    features=[gmaps.Polygon(fragata_gotuzzo)],\n",
    "    show_controls=False\n",
    ")\n",
    "fig.add_layer(fragata_gotuzzo_pol)\n",
    "\n",
    "tres_vendas = [ (-31.68201, -52.3598), (-31.68932, -52.29492), (-31.7378, -52.31801), (-31.73791, -52.35946) ]\n",
    "tres_vendas_pol = gmaps.drawing_layer(\n",
    "    features=[gmaps.Polygon(tres_vendas)],\n",
    "    show_controls=False\n",
    ")\n",
    "fig.add_layer(tres_vendas_pol)"
   ]
  },
  {
   "cell_type": "code",
   "execution_count": 85,
   "metadata": {
    "scrolled": false
   },
   "outputs": [
    {
     "data": {
      "application/vnd.jupyter.widget-view+json": {
       "model_id": "4cb066dc04f04eab8427da84a1447af6",
       "version_major": 2,
       "version_minor": 0
      },
      "text/html": [
       "<p>Failed to display Jupyter Widget of type <code>Figure</code>.</p>\n",
       "<p>\n",
       "  If you're reading this message in the Jupyter Notebook or JupyterLab Notebook, it may mean\n",
       "  that the widgets JavaScript is still loading. If this message persists, it\n",
       "  likely means that the widgets JavaScript library is either not installed or\n",
       "  not enabled. See the <a href=\"https://ipywidgets.readthedocs.io/en/stable/user_install.html\">Jupyter\n",
       "  Widgets Documentation</a> for setup instructions.\n",
       "</p>\n",
       "<p>\n",
       "  If you're reading this message in another frontend (for example, a static\n",
       "  rendering on GitHub or <a href=\"https://nbviewer.jupyter.org/\">NBViewer</a>),\n",
       "  it may mean that your frontend doesn't currently support widgets.\n",
       "</p>\n"
      ],
      "text/plain": [
       "Figure()"
      ]
     },
     "metadata": {},
     "output_type": "display_data"
    }
   ],
   "source": [
    "fig"
   ]
  },
  {
   "cell_type": "code",
   "execution_count": 90,
   "metadata": {},
   "outputs": [
    {
     "data": {
      "application/vnd.jupyter.widget-view+json": {
       "model_id": "6e905e8b50f44a4783ebad02af726dc2",
       "version_major": 2,
       "version_minor": 0
      },
      "text/html": [
       "<p>Failed to display Jupyter Widget of type <code>Figure</code>.</p>\n",
       "<p>\n",
       "  If you're reading this message in the Jupyter Notebook or JupyterLab Notebook, it may mean\n",
       "  that the widgets JavaScript is still loading. If this message persists, it\n",
       "  likely means that the widgets JavaScript library is either not installed or\n",
       "  not enabled. See the <a href=\"https://ipywidgets.readthedocs.io/en/stable/user_install.html\">Jupyter\n",
       "  Widgets Documentation</a> for setup instructions.\n",
       "</p>\n",
       "<p>\n",
       "  If you're reading this message in another frontend (for example, a static\n",
       "  rendering on GitHub or <a href=\"https://nbviewer.jupyter.org/\">NBViewer</a>),\n",
       "  it may mean that your frontend doesn't currently support widgets.\n",
       "</p>\n"
      ],
      "text/plain": [
       "Figure()"
      ]
     },
     "metadata": {},
     "output_type": "display_data"
    }
   ],
   "source": [
    "fig2"
   ]
  },
  {
   "cell_type": "code",
   "execution_count": 86,
   "metadata": {},
   "outputs": [],
   "source": [
    "gym_loc = pd.read_csv('Queries/gym_team/gym_team_24_32.csv')\n",
    "\n",
    "mystic = gym_loc[gym_loc['Team'] == 1]\n",
    "mystic = mystic[['Latitude', 'Longitude']]\n",
    "\n",
    "valor = gym_loc[gym_loc['Team'] == 2]\n",
    "valor = valor[['Latitude', 'Longitude']]\n",
    "\n",
    "instic = gym_loc[gym_loc['Team'] == 3]\n",
    "instic = instic[['Latitude', 'Longitude']]"
   ]
  },
  {
   "cell_type": "code",
   "execution_count": 87,
   "metadata": {},
   "outputs": [],
   "source": [
    "centermap = (-31.7643528,-52.3381246)\n",
    "fig2 = gmaps.figure(center=centermap, zoom_level=14.75)"
   ]
  },
  {
   "cell_type": "code",
   "execution_count": 88,
   "metadata": {},
   "outputs": [],
   "source": [
    "gym_mystic = gmaps.symbol_layer(\n",
    "    mystic, fill_color=\"rgba(0, 63, 255, 0.5)\", stroke_color=\"rgba(0, 63, 255, 1)\", scale=5\n",
    ")\n",
    "fig2.add_layer(gym_mystic)\n",
    "\n",
    "gym_valor = gmaps.symbol_layer(\n",
    "    valor, fill_color=\"rgba(255, 0, 0, 0.5)\", stroke_color=\"rgba(255, 0, 0, 1)\", scale=5\n",
    ")\n",
    "fig2.add_layer(gym_valor)\n",
    "\n",
    "gym_instic = gmaps.symbol_layer(\n",
    "    instic, fill_color=\"rgba(246, 255, 0, 0.5)\", stroke_color=\"rgba(246, 255, 0, 1)\", scale=5\n",
    ")\n",
    "fig2.add_layer(gym_instic)"
   ]
  },
  {
   "cell_type": "code",
   "execution_count": 89,
   "metadata": {},
   "outputs": [],
   "source": [
    "centro_mercado = [(-31.76545, -52.34115), (-31.77073, -52.30582), (-31.78512, -52.31904), (-31.78012, -52.34691)]\n",
    "\n",
    "centro_mercado_pol = gmaps.drawing_layer(\n",
    "    features=[gmaps.Polygon(centro_mercado)],\n",
    "    show_controls=False\n",
    ")\n",
    "fig2.add_layer(centro_mercado_pol)\n",
    "\n",
    "centro_bento = [(-31.75915, -52.35167), (-31.76655, -52.33236), (-31.75008, -52.32663), (-31.73811, -52.34393)]\n",
    "centro_bento_pol = gmaps.drawing_layer(\n",
    "    features=[gmaps.Polygon(centro_bento)],\n",
    "    show_controls=False\n",
    ")\n",
    "fig2.add_layer(centro_bento_pol)\n",
    "\n",
    "centro_sta_casa = [(-31.76163, -52.34747), (-31.76405, -52.34075), (-31.77792, -52.34649), (-31.77554, -52.35428)]\n",
    "centro_sta_casa_pol = gmaps.drawing_layer(\n",
    "    features=[gmaps.Polygon(centro_sta_casa)],\n",
    "    show_controls=False\n",
    ")\n",
    "fig2.add_layer(centro_sta_casa_pol)\n",
    "\n",
    "baronesa = [(-31.73908, -52.32451), (-31.76422, -52.32361), (-31.76453, -52.27996), (-31.7382, -52.2809)]\n",
    "baronesa_pol = gmaps.drawing_layer(\n",
    "    features=[gmaps.Polygon(baronesa)],\n",
    "    show_controls=False\n",
    ")\n",
    "fig2.add_layer(baronesa_pol)\n",
    "\n",
    "laranjal = [(-31.72951, -52.20552), (-31.78064, -52.21883), (-31.78024, -52.25217), (-31.71422, -52.24544)]\n",
    "laranjal_pol = gmaps.drawing_layer(\n",
    "    features=[gmaps.Polygon(laranjal)],\n",
    "    show_controls=False\n",
    ")\n",
    "fig2.add_layer(laranjal_pol)\n",
    "\n",
    "fragata_duque = [(-31.77588, -52.35515), (-31.76488, -52.3497), (-31.75497, -52.35837), (-31.7563, -52.36757), (-31.75033, -52.40053), (-31.76055, -52.40092)]\n",
    "fragata_duque_pol = gmaps.drawing_layer(\n",
    "    features=[gmaps.Polygon(fragata_duque)],\n",
    "    show_controls=False\n",
    ")\n",
    "fig2.add_layer(fragata_duque_pol)\n",
    "\n",
    "fragata_gotuzzo = [(-31.72488, -52.39843), (-31.73039, -52.36204), (-31.74966, -52.36199), (-31.75386, -52.37834), (-31.74962, -52.40173)]\n",
    "fragata_gotuzzo_pol = gmaps.drawing_layer(\n",
    "    features=[gmaps.Polygon(fragata_gotuzzo)],\n",
    "    show_controls=False\n",
    ")\n",
    "fig2.add_layer(fragata_gotuzzo_pol)\n",
    "\n",
    "tres_vendas = [ (-31.68201, -52.3598), (-31.68932, -52.29492), (-31.7378, -52.31801), (-31.73791, -52.35946) ]\n",
    "tres_vendas_pol = gmaps.drawing_layer(\n",
    "    features=[gmaps.Polygon(tres_vendas)],\n",
    "    show_controls=False\n",
    ")\n",
    "fig2.add_layer(tres_vendas_pol)"
   ]
  },
  {
   "cell_type": "code",
   "execution_count": null,
   "metadata": {},
   "outputs": [],
   "source": []
  },
  {
   "cell_type": "code",
   "execution_count": null,
   "metadata": {},
   "outputs": [],
   "source": []
  }
 ],
 "metadata": {
  "kernelspec": {
   "display_name": "Python 2",
   "language": "python",
   "name": "python2"
  },
  "language_info": {
   "codemirror_mode": {
    "name": "ipython",
    "version": 2
   },
   "file_extension": ".py",
   "mimetype": "text/x-python",
   "name": "python",
   "nbconvert_exporter": "python",
   "pygments_lexer": "ipython2",
   "version": "2.7.13"
  }
 },
 "nbformat": 4,
 "nbformat_minor": 2
}
